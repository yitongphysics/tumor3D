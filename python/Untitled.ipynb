{
 "cells": [
  {
   "cell_type": "code",
   "execution_count": 1,
   "id": "b75edec5-af13-4b67-8efa-6454b4757aa3",
   "metadata": {},
   "outputs": [],
   "source": [
    "def keep_last_block(file_path):\n",
    "    with open(file_path, 'r') as file:\n",
    "        lines = file.readlines()\n",
    "\n",
    "    # Find the start of the last block\n",
    "    last_block_start = None\n",
    "    for i in range(len(lines) - 1, -1, -1):\n",
    "        if lines[i].strip() == \"NEWFR\":\n",
    "            last_block_start = i\n",
    "            break\n",
    "\n",
    "    # If a block was found, write only the last block back to the file\n",
    "    if last_block_start is not None:\n",
    "        with open(file_path, 'w') as file:\n",
    "            file.writelines(lines[last_block_start:])\n",
    "\n",
    "# Example usage\n",
    "# keep_last_block('path_to_your_file.txt')"
   ]
  },
  {
   "cell_type": "code",
   "execution_count": 5,
   "id": "220eaaa8-528c-4c3d-b71e-2d37c828ffe3",
   "metadata": {},
   "outputs": [],
   "source": [
    "path_file = '/gpfs/gibbs/project/ohern/yz974/tumor3D/invasion/0425_long/test/'"
   ]
  },
  {
   "cell_type": "code",
   "execution_count": 7,
   "id": "04990b00-49bf-4e1d-a466-ce2340e552f4",
   "metadata": {},
   "outputs": [
    {
     "name": "stdout",
     "output_type": "stream",
     "text": [
      "/gpfs/gibbs/project/ohern/yz974/tumor3D/invasion/0425_long/test/0.pos\n",
      "/gpfs/gibbs/project/ohern/yz974/tumor3D/invasion/0425_long/test/1.pos\n",
      "/gpfs/gibbs/project/ohern/yz974/tumor3D/invasion/0425_long/test/2.pos\n",
      "/gpfs/gibbs/project/ohern/yz974/tumor3D/invasion/0425_long/test/3.pos\n",
      "/gpfs/gibbs/project/ohern/yz974/tumor3D/invasion/0425_long/test/4.pos\n",
      "/gpfs/gibbs/project/ohern/yz974/tumor3D/invasion/0425_long/test/5.pos\n",
      "/gpfs/gibbs/project/ohern/yz974/tumor3D/invasion/0425_long/test/6.pos\n",
      "/gpfs/gibbs/project/ohern/yz974/tumor3D/invasion/0425_long/test/7.pos\n",
      "/gpfs/gibbs/project/ohern/yz974/tumor3D/invasion/0425_long/test/8.pos\n",
      "/gpfs/gibbs/project/ohern/yz974/tumor3D/invasion/0425_long/test/9.pos\n",
      "/gpfs/gibbs/project/ohern/yz974/tumor3D/invasion/0425_long/test/10.pos\n",
      "/gpfs/gibbs/project/ohern/yz974/tumor3D/invasion/0425_long/test/11.pos\n",
      "/gpfs/gibbs/project/ohern/yz974/tumor3D/invasion/0425_long/test/12.pos\n",
      "/gpfs/gibbs/project/ohern/yz974/tumor3D/invasion/0425_long/test/13.pos\n",
      "/gpfs/gibbs/project/ohern/yz974/tumor3D/invasion/0425_long/test/14.pos\n",
      "/gpfs/gibbs/project/ohern/yz974/tumor3D/invasion/0425_long/test/15.pos\n"
     ]
    }
   ],
   "source": [
    "for ii in range(16):\n",
    "    fstr = path_file + str(ii) + '.pos'\n",
    "    keep_last_block(fstr)"
   ]
  }
 ],
 "metadata": {
  "kernelspec": {
   "display_name": "Python 3 (ipykernel)",
   "language": "python",
   "name": "python3"
  },
  "language_info": {
   "codemirror_mode": {
    "name": "ipython",
    "version": 3
   },
   "file_extension": ".py",
   "mimetype": "text/x-python",
   "name": "python",
   "nbconvert_exporter": "python",
   "pygments_lexer": "ipython3",
   "version": "3.9.6"
  }
 },
 "nbformat": 4,
 "nbformat_minor": 5
}
